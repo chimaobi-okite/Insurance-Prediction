{
  "nbformat": 4,
  "nbformat_minor": 0,
  "metadata": {
    "colab": {
      "name": "Insurance_prediction.ipynb",
      "provenance": [],
      "authorship_tag": "ABX9TyP3wiQdGoE4LUNJVCOg89H/",
      "include_colab_link": true
    },
    "kernelspec": {
      "name": "python3",
      "display_name": "Python 3"
    },
    "language_info": {
      "name": "python"
    }
  },
  "cells": [
    {
      "cell_type": "markdown",
      "metadata": {
        "id": "view-in-github",
        "colab_type": "text"
      },
      "source": [
        "<a href=\"https://colab.research.google.com/github/chimaobi-okite/Insurance-Prediction/blob/main/Insurance_prediction.ipynb\" target=\"_parent\"><img src=\"https://colab.research.google.com/assets/colab-badge.svg\" alt=\"Open In Colab\"/></a>"
      ]
    },
    {
      "cell_type": "markdown",
      "source": [
        "## Problem Statement"
      ],
      "metadata": {
        "id": "bYaDDh1Xi6xB"
      }
    },
    {
      "cell_type": "markdown",
      "source": [
        "\n",
        "\n",
        "Recently, there has been an increase in the number of building collapse in Lagos and major cities in Nigeria. Olusola Insurance Company offers a building insurance policy that protects buildings against damages that could be caused by a fire or vandalism, by a flood or storm.\n",
        "\n",
        "You have been appointed as the Lead Data Analyst to build a predictive model to determine if a building will have an insurance claim during a certain period or not. You will have to predict the probability of having at least one claim over the insured period of the building.\n",
        "\n",
        "The model will be based on the building characteristics. The target variable, Claim, is a:\n",
        "\n",
        "- 1 if the building has at least a claim over the insured period.\n",
        "- 0 if the building doesn’t have a claim over the insured period."
      ],
      "metadata": {
        "id": "EZOZ5OfdjVb-"
      }
    },
    {
      "cell_type": "markdown",
      "source": [
        "### Personal Objective\n",
        "\n",
        "To understand how to build custom transformers"
      ],
      "metadata": {
        "id": "Ia1slVBPa0Xk"
      }
    },
    {
      "cell_type": "markdown",
      "source": [
        "## Get The Data"
      ],
      "metadata": {
        "id": "2EwWTYCekPkL"
      }
    },
    {
      "cell_type": "markdown",
      "source": [
        "Import the necessary Libraries"
      ],
      "metadata": {
        "id": "3WHb6hTBkV9Q"
      }
    },
    {
      "cell_type": "code",
      "execution_count": null,
      "metadata": {
        "id": "-dMX_5_wiam5"
      },
      "outputs": [],
      "source": [
        "import pandas as pd\n",
        "import numpy as np\n",
        "import seaborn as sns\n",
        "import matplotlib.pyplot as plt"
      ]
    },
    {
      "cell_type": "markdown",
      "source": [
        "Read the csv files containing the data"
      ],
      "metadata": {
        "id": "tHDr83nCk2F4"
      }
    },
    {
      "cell_type": "code",
      "source": [
        "train_data = pd.read_csv('https://raw.githubusercontent.com/chimaobi-okite/Insurance-Prediction/main/train_data.csv')\n",
        "test_data =  pd.read_csv('https://raw.githubusercontent.com/chimaobi-okite/Insurance-Prediction/main/test_data.csv')\n",
        "variable_description = pd.read_csv('https://raw.githubusercontent.com/chimaobi-okite/Insurance-Prediction/main/VariableDescription.csv')\n",
        "sample_sub = pd.read_csv('https://raw.githubusercontent.com/chimaobi-okite/Insurance-Prediction/main/SampleSubmission.csv')"
      ],
      "metadata": {
        "id": "tmRdbJWikoPB"
      },
      "execution_count": null,
      "outputs": []
    },
    {
      "cell_type": "markdown",
      "source": [
        "## Explore The Train Data (EDA)"
      ],
      "metadata": {
        "id": "2Vu4YWhsmU65"
      }
    },
    {
      "cell_type": "markdown",
      "source": [
        "Create of copy of the train_data for analysis"
      ],
      "metadata": {
        "id": "74RV02JOXq9n"
      }
    },
    {
      "cell_type": "code",
      "source": [
        "train = train_data.copy()"
      ],
      "metadata": {
        "id": "full-r_wXvl_"
      },
      "execution_count": null,
      "outputs": []
    },
    {
      "cell_type": "markdown",
      "source": [
        "Lets have a feel of the train_data and variable description"
      ],
      "metadata": {
        "id": "Mfdc4oBEml63"
      }
    },
    {
      "cell_type": "code",
      "source": [
        "train.head()"
      ],
      "metadata": {
        "colab": {
          "base_uri": "https://localhost:8080/",
          "height": 288
        },
        "id": "4lox3IwfmSEr",
        "outputId": "c208dbb1-07b3-4d85-d466-e5c41dee2e4f"
      },
      "execution_count": null,
      "outputs": [
        {
          "output_type": "execute_result",
          "data": {
            "text/html": [
              "\n",
              "  <div id=\"df-7faa9765-ff64-493e-96d2-3383f507bd57\">\n",
              "    <div class=\"colab-df-container\">\n",
              "      <div>\n",
              "<style scoped>\n",
              "    .dataframe tbody tr th:only-of-type {\n",
              "        vertical-align: middle;\n",
              "    }\n",
              "\n",
              "    .dataframe tbody tr th {\n",
              "        vertical-align: top;\n",
              "    }\n",
              "\n",
              "    .dataframe thead th {\n",
              "        text-align: right;\n",
              "    }\n",
              "</style>\n",
              "<table border=\"1\" class=\"dataframe\">\n",
              "  <thead>\n",
              "    <tr style=\"text-align: right;\">\n",
              "      <th></th>\n",
              "      <th>Customer Id</th>\n",
              "      <th>YearOfObservation</th>\n",
              "      <th>Insured_Period</th>\n",
              "      <th>Residential</th>\n",
              "      <th>Building_Painted</th>\n",
              "      <th>Building_Fenced</th>\n",
              "      <th>Garden</th>\n",
              "      <th>Settlement</th>\n",
              "      <th>Building Dimension</th>\n",
              "      <th>Building_Type</th>\n",
              "      <th>Date_of_Occupancy</th>\n",
              "      <th>NumberOfWindows</th>\n",
              "      <th>Geo_Code</th>\n",
              "      <th>Claim</th>\n",
              "    </tr>\n",
              "  </thead>\n",
              "  <tbody>\n",
              "    <tr>\n",
              "      <th>0</th>\n",
              "      <td>H14663</td>\n",
              "      <td>2013</td>\n",
              "      <td>1.0</td>\n",
              "      <td>0</td>\n",
              "      <td>N</td>\n",
              "      <td>V</td>\n",
              "      <td>V</td>\n",
              "      <td>U</td>\n",
              "      <td>290.0</td>\n",
              "      <td>1</td>\n",
              "      <td>1960.0</td>\n",
              "      <td>.</td>\n",
              "      <td>1053</td>\n",
              "      <td>0</td>\n",
              "    </tr>\n",
              "    <tr>\n",
              "      <th>1</th>\n",
              "      <td>H2037</td>\n",
              "      <td>2015</td>\n",
              "      <td>1.0</td>\n",
              "      <td>0</td>\n",
              "      <td>V</td>\n",
              "      <td>N</td>\n",
              "      <td>O</td>\n",
              "      <td>R</td>\n",
              "      <td>490.0</td>\n",
              "      <td>1</td>\n",
              "      <td>1850.0</td>\n",
              "      <td>4</td>\n",
              "      <td>1053</td>\n",
              "      <td>0</td>\n",
              "    </tr>\n",
              "    <tr>\n",
              "      <th>2</th>\n",
              "      <td>H3802</td>\n",
              "      <td>2014</td>\n",
              "      <td>1.0</td>\n",
              "      <td>0</td>\n",
              "      <td>N</td>\n",
              "      <td>V</td>\n",
              "      <td>V</td>\n",
              "      <td>U</td>\n",
              "      <td>595.0</td>\n",
              "      <td>1</td>\n",
              "      <td>1960.0</td>\n",
              "      <td>.</td>\n",
              "      <td>1053</td>\n",
              "      <td>0</td>\n",
              "    </tr>\n",
              "    <tr>\n",
              "      <th>3</th>\n",
              "      <td>H3834</td>\n",
              "      <td>2013</td>\n",
              "      <td>1.0</td>\n",
              "      <td>0</td>\n",
              "      <td>V</td>\n",
              "      <td>V</td>\n",
              "      <td>V</td>\n",
              "      <td>U</td>\n",
              "      <td>2840.0</td>\n",
              "      <td>1</td>\n",
              "      <td>1960.0</td>\n",
              "      <td>.</td>\n",
              "      <td>1053</td>\n",
              "      <td>0</td>\n",
              "    </tr>\n",
              "    <tr>\n",
              "      <th>4</th>\n",
              "      <td>H5053</td>\n",
              "      <td>2014</td>\n",
              "      <td>1.0</td>\n",
              "      <td>0</td>\n",
              "      <td>V</td>\n",
              "      <td>N</td>\n",
              "      <td>O</td>\n",
              "      <td>R</td>\n",
              "      <td>680.0</td>\n",
              "      <td>1</td>\n",
              "      <td>1800.0</td>\n",
              "      <td>3</td>\n",
              "      <td>1053</td>\n",
              "      <td>0</td>\n",
              "    </tr>\n",
              "  </tbody>\n",
              "</table>\n",
              "</div>\n",
              "      <button class=\"colab-df-convert\" onclick=\"convertToInteractive('df-7faa9765-ff64-493e-96d2-3383f507bd57')\"\n",
              "              title=\"Convert this dataframe to an interactive table.\"\n",
              "              style=\"display:none;\">\n",
              "        \n",
              "  <svg xmlns=\"http://www.w3.org/2000/svg\" height=\"24px\"viewBox=\"0 0 24 24\"\n",
              "       width=\"24px\">\n",
              "    <path d=\"M0 0h24v24H0V0z\" fill=\"none\"/>\n",
              "    <path d=\"M18.56 5.44l.94 2.06.94-2.06 2.06-.94-2.06-.94-.94-2.06-.94 2.06-2.06.94zm-11 1L8.5 8.5l.94-2.06 2.06-.94-2.06-.94L8.5 2.5l-.94 2.06-2.06.94zm10 10l.94 2.06.94-2.06 2.06-.94-2.06-.94-.94-2.06-.94 2.06-2.06.94z\"/><path d=\"M17.41 7.96l-1.37-1.37c-.4-.4-.92-.59-1.43-.59-.52 0-1.04.2-1.43.59L10.3 9.45l-7.72 7.72c-.78.78-.78 2.05 0 2.83L4 21.41c.39.39.9.59 1.41.59.51 0 1.02-.2 1.41-.59l7.78-7.78 2.81-2.81c.8-.78.8-2.07 0-2.86zM5.41 20L4 18.59l7.72-7.72 1.47 1.35L5.41 20z\"/>\n",
              "  </svg>\n",
              "      </button>\n",
              "      \n",
              "  <style>\n",
              "    .colab-df-container {\n",
              "      display:flex;\n",
              "      flex-wrap:wrap;\n",
              "      gap: 12px;\n",
              "    }\n",
              "\n",
              "    .colab-df-convert {\n",
              "      background-color: #E8F0FE;\n",
              "      border: none;\n",
              "      border-radius: 50%;\n",
              "      cursor: pointer;\n",
              "      display: none;\n",
              "      fill: #1967D2;\n",
              "      height: 32px;\n",
              "      padding: 0 0 0 0;\n",
              "      width: 32px;\n",
              "    }\n",
              "\n",
              "    .colab-df-convert:hover {\n",
              "      background-color: #E2EBFA;\n",
              "      box-shadow: 0px 1px 2px rgba(60, 64, 67, 0.3), 0px 1px 3px 1px rgba(60, 64, 67, 0.15);\n",
              "      fill: #174EA6;\n",
              "    }\n",
              "\n",
              "    [theme=dark] .colab-df-convert {\n",
              "      background-color: #3B4455;\n",
              "      fill: #D2E3FC;\n",
              "    }\n",
              "\n",
              "    [theme=dark] .colab-df-convert:hover {\n",
              "      background-color: #434B5C;\n",
              "      box-shadow: 0px 1px 3px 1px rgba(0, 0, 0, 0.15);\n",
              "      filter: drop-shadow(0px 1px 2px rgba(0, 0, 0, 0.3));\n",
              "      fill: #FFFFFF;\n",
              "    }\n",
              "  </style>\n",
              "\n",
              "      <script>\n",
              "        const buttonEl =\n",
              "          document.querySelector('#df-7faa9765-ff64-493e-96d2-3383f507bd57 button.colab-df-convert');\n",
              "        buttonEl.style.display =\n",
              "          google.colab.kernel.accessAllowed ? 'block' : 'none';\n",
              "\n",
              "        async function convertToInteractive(key) {\n",
              "          const element = document.querySelector('#df-7faa9765-ff64-493e-96d2-3383f507bd57');\n",
              "          const dataTable =\n",
              "            await google.colab.kernel.invokeFunction('convertToInteractive',\n",
              "                                                     [key], {});\n",
              "          if (!dataTable) return;\n",
              "\n",
              "          const docLinkHtml = 'Like what you see? Visit the ' +\n",
              "            '<a target=\"_blank\" href=https://colab.research.google.com/notebooks/data_table.ipynb>data table notebook</a>'\n",
              "            + ' to learn more about interactive tables.';\n",
              "          element.innerHTML = '';\n",
              "          dataTable['output_type'] = 'display_data';\n",
              "          await google.colab.output.renderOutput(dataTable, element);\n",
              "          const docLink = document.createElement('div');\n",
              "          docLink.innerHTML = docLinkHtml;\n",
              "          element.appendChild(docLink);\n",
              "        }\n",
              "      </script>\n",
              "    </div>\n",
              "  </div>\n",
              "  "
            ],
            "text/plain": [
              "  Customer Id  YearOfObservation  ...  Geo_Code  Claim\n",
              "0      H14663               2013  ...      1053      0\n",
              "1       H2037               2015  ...      1053      0\n",
              "2       H3802               2014  ...      1053      0\n",
              "3       H3834               2013  ...      1053      0\n",
              "4       H5053               2014  ...      1053      0\n",
              "\n",
              "[5 rows x 14 columns]"
            ]
          },
          "metadata": {},
          "execution_count": 301
        }
      ]
    },
    {
      "cell_type": "code",
      "source": [
        "variable_description"
      ],
      "metadata": {
        "colab": {
          "base_uri": "https://localhost:8080/",
          "height": 488
        },
        "id": "sx_eihGsmwuf",
        "outputId": "13f96586-c7dc-4474-ac61-d978d13d6d08"
      },
      "execution_count": null,
      "outputs": [
        {
          "output_type": "execute_result",
          "data": {
            "text/html": [
              "\n",
              "  <div id=\"df-23bca432-73cb-4263-842d-90002ef6f173\">\n",
              "    <div class=\"colab-df-container\">\n",
              "      <div>\n",
              "<style scoped>\n",
              "    .dataframe tbody tr th:only-of-type {\n",
              "        vertical-align: middle;\n",
              "    }\n",
              "\n",
              "    .dataframe tbody tr th {\n",
              "        vertical-align: top;\n",
              "    }\n",
              "\n",
              "    .dataframe thead th {\n",
              "        text-align: right;\n",
              "    }\n",
              "</style>\n",
              "<table border=\"1\" class=\"dataframe\">\n",
              "  <thead>\n",
              "    <tr style=\"text-align: right;\">\n",
              "      <th></th>\n",
              "      <th>Variable</th>\n",
              "      <th>Description</th>\n",
              "    </tr>\n",
              "  </thead>\n",
              "  <tbody>\n",
              "    <tr>\n",
              "      <th>0</th>\n",
              "      <td>Customer Id</td>\n",
              "      <td>Identification number for the Policy holder</td>\n",
              "    </tr>\n",
              "    <tr>\n",
              "      <th>1</th>\n",
              "      <td>YearOfObservation</td>\n",
              "      <td>year of observation for the insured policy</td>\n",
              "    </tr>\n",
              "    <tr>\n",
              "      <th>2</th>\n",
              "      <td>Insured_Period</td>\n",
              "      <td>duration of insurance policy in Olusola Insura...</td>\n",
              "    </tr>\n",
              "    <tr>\n",
              "      <th>3</th>\n",
              "      <td>Residential</td>\n",
              "      <td>is the building a residential building or not</td>\n",
              "    </tr>\n",
              "    <tr>\n",
              "      <th>4</th>\n",
              "      <td>Building_Painted</td>\n",
              "      <td>is the building painted or not (N-Painted, V-N...</td>\n",
              "    </tr>\n",
              "    <tr>\n",
              "      <th>5</th>\n",
              "      <td>Building_Fenced</td>\n",
              "      <td>is the building fence or not (N-Fenced, V-Not ...</td>\n",
              "    </tr>\n",
              "    <tr>\n",
              "      <th>6</th>\n",
              "      <td>Garden</td>\n",
              "      <td>building has garden or not (V-has garden; O-no...</td>\n",
              "    </tr>\n",
              "    <tr>\n",
              "      <th>7</th>\n",
              "      <td>Settlement</td>\n",
              "      <td>Area where the building is located. (R- rural ...</td>\n",
              "    </tr>\n",
              "    <tr>\n",
              "      <th>8</th>\n",
              "      <td>Building Dimension</td>\n",
              "      <td>Size of the insured building in m2</td>\n",
              "    </tr>\n",
              "    <tr>\n",
              "      <th>9</th>\n",
              "      <td>Building_Type</td>\n",
              "      <td>The type of building (Type 1, 2, 3, 4)</td>\n",
              "    </tr>\n",
              "    <tr>\n",
              "      <th>10</th>\n",
              "      <td>Date_of_Occupancy</td>\n",
              "      <td>date building was first occupied</td>\n",
              "    </tr>\n",
              "    <tr>\n",
              "      <th>11</th>\n",
              "      <td>NumberOfWindows</td>\n",
              "      <td>number of windows in the building</td>\n",
              "    </tr>\n",
              "    <tr>\n",
              "      <th>12</th>\n",
              "      <td>Geo Code</td>\n",
              "      <td>Geographical Code of the Insured building</td>\n",
              "    </tr>\n",
              "    <tr>\n",
              "      <th>13</th>\n",
              "      <td>Claim</td>\n",
              "      <td>target variable. (0: no claim, 1: at least one...</td>\n",
              "    </tr>\n",
              "  </tbody>\n",
              "</table>\n",
              "</div>\n",
              "      <button class=\"colab-df-convert\" onclick=\"convertToInteractive('df-23bca432-73cb-4263-842d-90002ef6f173')\"\n",
              "              title=\"Convert this dataframe to an interactive table.\"\n",
              "              style=\"display:none;\">\n",
              "        \n",
              "  <svg xmlns=\"http://www.w3.org/2000/svg\" height=\"24px\"viewBox=\"0 0 24 24\"\n",
              "       width=\"24px\">\n",
              "    <path d=\"M0 0h24v24H0V0z\" fill=\"none\"/>\n",
              "    <path d=\"M18.56 5.44l.94 2.06.94-2.06 2.06-.94-2.06-.94-.94-2.06-.94 2.06-2.06.94zm-11 1L8.5 8.5l.94-2.06 2.06-.94-2.06-.94L8.5 2.5l-.94 2.06-2.06.94zm10 10l.94 2.06.94-2.06 2.06-.94-2.06-.94-.94-2.06-.94 2.06-2.06.94z\"/><path d=\"M17.41 7.96l-1.37-1.37c-.4-.4-.92-.59-1.43-.59-.52 0-1.04.2-1.43.59L10.3 9.45l-7.72 7.72c-.78.78-.78 2.05 0 2.83L4 21.41c.39.39.9.59 1.41.59.51 0 1.02-.2 1.41-.59l7.78-7.78 2.81-2.81c.8-.78.8-2.07 0-2.86zM5.41 20L4 18.59l7.72-7.72 1.47 1.35L5.41 20z\"/>\n",
              "  </svg>\n",
              "      </button>\n",
              "      \n",
              "  <style>\n",
              "    .colab-df-container {\n",
              "      display:flex;\n",
              "      flex-wrap:wrap;\n",
              "      gap: 12px;\n",
              "    }\n",
              "\n",
              "    .colab-df-convert {\n",
              "      background-color: #E8F0FE;\n",
              "      border: none;\n",
              "      border-radius: 50%;\n",
              "      cursor: pointer;\n",
              "      display: none;\n",
              "      fill: #1967D2;\n",
              "      height: 32px;\n",
              "      padding: 0 0 0 0;\n",
              "      width: 32px;\n",
              "    }\n",
              "\n",
              "    .colab-df-convert:hover {\n",
              "      background-color: #E2EBFA;\n",
              "      box-shadow: 0px 1px 2px rgba(60, 64, 67, 0.3), 0px 1px 3px 1px rgba(60, 64, 67, 0.15);\n",
              "      fill: #174EA6;\n",
              "    }\n",
              "\n",
              "    [theme=dark] .colab-df-convert {\n",
              "      background-color: #3B4455;\n",
              "      fill: #D2E3FC;\n",
              "    }\n",
              "\n",
              "    [theme=dark] .colab-df-convert:hover {\n",
              "      background-color: #434B5C;\n",
              "      box-shadow: 0px 1px 3px 1px rgba(0, 0, 0, 0.15);\n",
              "      filter: drop-shadow(0px 1px 2px rgba(0, 0, 0, 0.3));\n",
              "      fill: #FFFFFF;\n",
              "    }\n",
              "  </style>\n",
              "\n",
              "      <script>\n",
              "        const buttonEl =\n",
              "          document.querySelector('#df-23bca432-73cb-4263-842d-90002ef6f173 button.colab-df-convert');\n",
              "        buttonEl.style.display =\n",
              "          google.colab.kernel.accessAllowed ? 'block' : 'none';\n",
              "\n",
              "        async function convertToInteractive(key) {\n",
              "          const element = document.querySelector('#df-23bca432-73cb-4263-842d-90002ef6f173');\n",
              "          const dataTable =\n",
              "            await google.colab.kernel.invokeFunction('convertToInteractive',\n",
              "                                                     [key], {});\n",
              "          if (!dataTable) return;\n",
              "\n",
              "          const docLinkHtml = 'Like what you see? Visit the ' +\n",
              "            '<a target=\"_blank\" href=https://colab.research.google.com/notebooks/data_table.ipynb>data table notebook</a>'\n",
              "            + ' to learn more about interactive tables.';\n",
              "          element.innerHTML = '';\n",
              "          dataTable['output_type'] = 'display_data';\n",
              "          await google.colab.output.renderOutput(dataTable, element);\n",
              "          const docLink = document.createElement('div');\n",
              "          docLink.innerHTML = docLinkHtml;\n",
              "          element.appendChild(docLink);\n",
              "        }\n",
              "      </script>\n",
              "    </div>\n",
              "  </div>\n",
              "  "
            ],
            "text/plain": [
              "              Variable                                        Description\n",
              "0          Customer Id        Identification number for the Policy holder\n",
              "1    YearOfObservation         year of observation for the insured policy\n",
              "2       Insured_Period  duration of insurance policy in Olusola Insura...\n",
              "3          Residential      is the building a residential building or not\n",
              "4     Building_Painted  is the building painted or not (N-Painted, V-N...\n",
              "5      Building_Fenced  is the building fence or not (N-Fenced, V-Not ...\n",
              "6               Garden  building has garden or not (V-has garden; O-no...\n",
              "7           Settlement  Area where the building is located. (R- rural ...\n",
              "8   Building Dimension                 Size of the insured building in m2\n",
              "9        Building_Type             The type of building (Type 1, 2, 3, 4)\n",
              "10   Date_of_Occupancy                   date building was first occupied\n",
              "11     NumberOfWindows                  number of windows in the building\n",
              "12            Geo Code          Geographical Code of the Insured building\n",
              "13               Claim  target variable. (0: no claim, 1: at least one..."
            ]
          },
          "metadata": {},
          "execution_count": 302
        }
      ]
    },
    {
      "cell_type": "markdown",
      "source": [
        "Get info of the traing data"
      ],
      "metadata": {
        "id": "mUz40fq3ofks"
      }
    },
    {
      "cell_type": "code",
      "source": [
        "train.info()"
      ],
      "metadata": {
        "colab": {
          "base_uri": "https://localhost:8080/"
        },
        "id": "F8FQPvnLnLjH",
        "outputId": "e96ed891-a965-4dc8-8530-25e500d14467"
      },
      "execution_count": null,
      "outputs": [
        {
          "output_type": "stream",
          "name": "stdout",
          "text": [
            "<class 'pandas.core.frame.DataFrame'>\n",
            "RangeIndex: 7160 entries, 0 to 7159\n",
            "Data columns (total 14 columns):\n",
            " #   Column              Non-Null Count  Dtype  \n",
            "---  ------              --------------  -----  \n",
            " 0   Customer Id         7160 non-null   object \n",
            " 1   YearOfObservation   7160 non-null   int64  \n",
            " 2   Insured_Period      7160 non-null   float64\n",
            " 3   Residential         7160 non-null   int64  \n",
            " 4   Building_Painted    7160 non-null   object \n",
            " 5   Building_Fenced     7160 non-null   object \n",
            " 6   Garden              7153 non-null   object \n",
            " 7   Settlement          7160 non-null   object \n",
            " 8   Building Dimension  7054 non-null   float64\n",
            " 9   Building_Type       7160 non-null   int64  \n",
            " 10  Date_of_Occupancy   6652 non-null   float64\n",
            " 11  NumberOfWindows     7160 non-null   object \n",
            " 12  Geo_Code            7058 non-null   object \n",
            " 13  Claim               7160 non-null   int64  \n",
            "dtypes: float64(3), int64(4), object(7)\n",
            "memory usage: 783.2+ KB\n"
          ]
        }
      ]
    },
    {
      "cell_type": "code",
      "source": [
        "train.shape"
      ],
      "metadata": {
        "colab": {
          "base_uri": "https://localhost:8080/"
        },
        "id": "dX63dBl43tyx",
        "outputId": "c3aa914c-476a-4a65-9da4-cd72d4d8ff3b"
      },
      "execution_count": null,
      "outputs": [
        {
          "output_type": "execute_result",
          "data": {
            "text/plain": [
              "(7160, 14)"
            ]
          },
          "metadata": {},
          "execution_count": 304
        }
      ]
    },
    {
      "cell_type": "markdown",
      "source": [
        "Get a distribution Of the data"
      ],
      "metadata": {
        "id": "NOnd3buzqpky"
      }
    },
    {
      "cell_type": "code",
      "source": [
        "train.describe()"
      ],
      "metadata": {
        "colab": {
          "base_uri": "https://localhost:8080/",
          "height": 344
        },
        "id": "R7_Eq8bdqlcJ",
        "outputId": "e30942c3-69c3-4283-b7c6-90bae992178d"
      },
      "execution_count": null,
      "outputs": [
        {
          "output_type": "execute_result",
          "data": {
            "text/html": [
              "\n",
              "  <div id=\"df-44e52713-c37c-4339-a6b1-1368ca367b4b\">\n",
              "    <div class=\"colab-df-container\">\n",
              "      <div>\n",
              "<style scoped>\n",
              "    .dataframe tbody tr th:only-of-type {\n",
              "        vertical-align: middle;\n",
              "    }\n",
              "\n",
              "    .dataframe tbody tr th {\n",
              "        vertical-align: top;\n",
              "    }\n",
              "\n",
              "    .dataframe thead th {\n",
              "        text-align: right;\n",
              "    }\n",
              "</style>\n",
              "<table border=\"1\" class=\"dataframe\">\n",
              "  <thead>\n",
              "    <tr style=\"text-align: right;\">\n",
              "      <th></th>\n",
              "      <th>YearOfObservation</th>\n",
              "      <th>Insured_Period</th>\n",
              "      <th>Residential</th>\n",
              "      <th>Building Dimension</th>\n",
              "      <th>Building_Type</th>\n",
              "      <th>Date_of_Occupancy</th>\n",
              "      <th>Claim</th>\n",
              "    </tr>\n",
              "  </thead>\n",
              "  <tbody>\n",
              "    <tr>\n",
              "      <th>count</th>\n",
              "      <td>7160.000000</td>\n",
              "      <td>7160.000000</td>\n",
              "      <td>7160.000000</td>\n",
              "      <td>7054.000000</td>\n",
              "      <td>7160.000000</td>\n",
              "      <td>6652.000000</td>\n",
              "      <td>7160.000000</td>\n",
              "    </tr>\n",
              "    <tr>\n",
              "      <th>mean</th>\n",
              "      <td>2013.669553</td>\n",
              "      <td>0.909758</td>\n",
              "      <td>0.305447</td>\n",
              "      <td>1883.727530</td>\n",
              "      <td>2.186034</td>\n",
              "      <td>1964.456404</td>\n",
              "      <td>0.228212</td>\n",
              "    </tr>\n",
              "    <tr>\n",
              "      <th>std</th>\n",
              "      <td>1.383769</td>\n",
              "      <td>0.239756</td>\n",
              "      <td>0.460629</td>\n",
              "      <td>2278.157745</td>\n",
              "      <td>0.940632</td>\n",
              "      <td>36.002014</td>\n",
              "      <td>0.419709</td>\n",
              "    </tr>\n",
              "    <tr>\n",
              "      <th>min</th>\n",
              "      <td>2012.000000</td>\n",
              "      <td>0.000000</td>\n",
              "      <td>0.000000</td>\n",
              "      <td>1.000000</td>\n",
              "      <td>1.000000</td>\n",
              "      <td>1545.000000</td>\n",
              "      <td>0.000000</td>\n",
              "    </tr>\n",
              "    <tr>\n",
              "      <th>25%</th>\n",
              "      <td>2012.000000</td>\n",
              "      <td>0.997268</td>\n",
              "      <td>0.000000</td>\n",
              "      <td>528.000000</td>\n",
              "      <td>2.000000</td>\n",
              "      <td>1960.000000</td>\n",
              "      <td>0.000000</td>\n",
              "    </tr>\n",
              "    <tr>\n",
              "      <th>50%</th>\n",
              "      <td>2013.000000</td>\n",
              "      <td>1.000000</td>\n",
              "      <td>0.000000</td>\n",
              "      <td>1083.000000</td>\n",
              "      <td>2.000000</td>\n",
              "      <td>1970.000000</td>\n",
              "      <td>0.000000</td>\n",
              "    </tr>\n",
              "    <tr>\n",
              "      <th>75%</th>\n",
              "      <td>2015.000000</td>\n",
              "      <td>1.000000</td>\n",
              "      <td>1.000000</td>\n",
              "      <td>2289.750000</td>\n",
              "      <td>3.000000</td>\n",
              "      <td>1980.000000</td>\n",
              "      <td>0.000000</td>\n",
              "    </tr>\n",
              "    <tr>\n",
              "      <th>max</th>\n",
              "      <td>2016.000000</td>\n",
              "      <td>1.000000</td>\n",
              "      <td>1.000000</td>\n",
              "      <td>20940.000000</td>\n",
              "      <td>4.000000</td>\n",
              "      <td>2016.000000</td>\n",
              "      <td>1.000000</td>\n",
              "    </tr>\n",
              "  </tbody>\n",
              "</table>\n",
              "</div>\n",
              "      <button class=\"colab-df-convert\" onclick=\"convertToInteractive('df-44e52713-c37c-4339-a6b1-1368ca367b4b')\"\n",
              "              title=\"Convert this dataframe to an interactive table.\"\n",
              "              style=\"display:none;\">\n",
              "        \n",
              "  <svg xmlns=\"http://www.w3.org/2000/svg\" height=\"24px\"viewBox=\"0 0 24 24\"\n",
              "       width=\"24px\">\n",
              "    <path d=\"M0 0h24v24H0V0z\" fill=\"none\"/>\n",
              "    <path d=\"M18.56 5.44l.94 2.06.94-2.06 2.06-.94-2.06-.94-.94-2.06-.94 2.06-2.06.94zm-11 1L8.5 8.5l.94-2.06 2.06-.94-2.06-.94L8.5 2.5l-.94 2.06-2.06.94zm10 10l.94 2.06.94-2.06 2.06-.94-2.06-.94-.94-2.06-.94 2.06-2.06.94z\"/><path d=\"M17.41 7.96l-1.37-1.37c-.4-.4-.92-.59-1.43-.59-.52 0-1.04.2-1.43.59L10.3 9.45l-7.72 7.72c-.78.78-.78 2.05 0 2.83L4 21.41c.39.39.9.59 1.41.59.51 0 1.02-.2 1.41-.59l7.78-7.78 2.81-2.81c.8-.78.8-2.07 0-2.86zM5.41 20L4 18.59l7.72-7.72 1.47 1.35L5.41 20z\"/>\n",
              "  </svg>\n",
              "      </button>\n",
              "      \n",
              "  <style>\n",
              "    .colab-df-container {\n",
              "      display:flex;\n",
              "      flex-wrap:wrap;\n",
              "      gap: 12px;\n",
              "    }\n",
              "\n",
              "    .colab-df-convert {\n",
              "      background-color: #E8F0FE;\n",
              "      border: none;\n",
              "      border-radius: 50%;\n",
              "      cursor: pointer;\n",
              "      display: none;\n",
              "      fill: #1967D2;\n",
              "      height: 32px;\n",
              "      padding: 0 0 0 0;\n",
              "      width: 32px;\n",
              "    }\n",
              "\n",
              "    .colab-df-convert:hover {\n",
              "      background-color: #E2EBFA;\n",
              "      box-shadow: 0px 1px 2px rgba(60, 64, 67, 0.3), 0px 1px 3px 1px rgba(60, 64, 67, 0.15);\n",
              "      fill: #174EA6;\n",
              "    }\n",
              "\n",
              "    [theme=dark] .colab-df-convert {\n",
              "      background-color: #3B4455;\n",
              "      fill: #D2E3FC;\n",
              "    }\n",
              "\n",
              "    [theme=dark] .colab-df-convert:hover {\n",
              "      background-color: #434B5C;\n",
              "      box-shadow: 0px 1px 3px 1px rgba(0, 0, 0, 0.15);\n",
              "      filter: drop-shadow(0px 1px 2px rgba(0, 0, 0, 0.3));\n",
              "      fill: #FFFFFF;\n",
              "    }\n",
              "  </style>\n",
              "\n",
              "      <script>\n",
              "        const buttonEl =\n",
              "          document.querySelector('#df-44e52713-c37c-4339-a6b1-1368ca367b4b button.colab-df-convert');\n",
              "        buttonEl.style.display =\n",
              "          google.colab.kernel.accessAllowed ? 'block' : 'none';\n",
              "\n",
              "        async function convertToInteractive(key) {\n",
              "          const element = document.querySelector('#df-44e52713-c37c-4339-a6b1-1368ca367b4b');\n",
              "          const dataTable =\n",
              "            await google.colab.kernel.invokeFunction('convertToInteractive',\n",
              "                                                     [key], {});\n",
              "          if (!dataTable) return;\n",
              "\n",
              "          const docLinkHtml = 'Like what you see? Visit the ' +\n",
              "            '<a target=\"_blank\" href=https://colab.research.google.com/notebooks/data_table.ipynb>data table notebook</a>'\n",
              "            + ' to learn more about interactive tables.';\n",
              "          element.innerHTML = '';\n",
              "          dataTable['output_type'] = 'display_data';\n",
              "          await google.colab.output.renderOutput(dataTable, element);\n",
              "          const docLink = document.createElement('div');\n",
              "          docLink.innerHTML = docLinkHtml;\n",
              "          element.appendChild(docLink);\n",
              "        }\n",
              "      </script>\n",
              "    </div>\n",
              "  </div>\n",
              "  "
            ],
            "text/plain": [
              "       YearOfObservation  Insured_Period  ...  Date_of_Occupancy        Claim\n",
              "count        7160.000000     7160.000000  ...        6652.000000  7160.000000\n",
              "mean         2013.669553        0.909758  ...        1964.456404     0.228212\n",
              "std             1.383769        0.239756  ...          36.002014     0.419709\n",
              "min          2012.000000        0.000000  ...        1545.000000     0.000000\n",
              "25%          2012.000000        0.997268  ...        1960.000000     0.000000\n",
              "50%          2013.000000        1.000000  ...        1970.000000     0.000000\n",
              "75%          2015.000000        1.000000  ...        1980.000000     0.000000\n",
              "max          2016.000000        1.000000  ...        2016.000000     1.000000\n",
              "\n",
              "[8 rows x 7 columns]"
            ]
          },
          "metadata": {},
          "execution_count": 305
        }
      ]
    },
    {
      "cell_type": "markdown",
      "source": [
        "Lets take a closer look at the Building Dimension, it seems to have outlier values"
      ],
      "metadata": {
        "id": "SnnJC_CssF3Q"
      }
    },
    {
      "cell_type": "code",
      "source": [
        "train['Building Dimension'].hist()\n",
        "plt.title('Building Dimension Distribution')\n",
        "plt.show()"
      ],
      "metadata": {
        "colab": {
          "base_uri": "https://localhost:8080/",
          "height": 281
        },
        "id": "HgpaihXUoyIY",
        "outputId": "fb8d6210-f721-41c0-930e-2ae36b666dd1"
      },
      "execution_count": null,
      "outputs": [
        {
          "output_type": "display_data",
          "data": {
            "image/png": "[encoded data removed]",
            "text/plain": [
              "<Figure size 432x288 with 1 Axes>"
            ]
          },
          "metadata": {
            "needs_background": "light"
          }
        }
      ]
    },
    {
      "cell_type": "markdown",
      "source": [
        " Looking at the plot above, building dimension is greatly skewed to the right, we might want to normalize it when modeling"
      ],
      "metadata": {
        "id": "kWiRXu9DshT3"
      }
    },
    {
      "cell_type": "markdown",
      "source": [
        "**Next check for correlation in the data**\n",
        "This is to see variables that are correlated with each other "
      ],
      "metadata": {
        "id": "gkmOp-xqs_4k"
      }
    },
    {
      "cell_type": "code",
      "source": [
        "train.corr()"
      ],
      "metadata": {
        "colab": {
          "base_uri": "https://localhost:8080/",
          "height": 330
        },
        "id": "KCQmL60ms0JI",
        "outputId": "42eb4c02-2658-4cc9-a73c-430072ab1c80"
      },
      "execution_count": null,
      "outputs": [
        {
          "output_type": "execute_result",
          "data": {
            "text/html": [
              "\n",
              "  <div id=\"df-f517d30a-3388-4e81-8d0d-336aebeb9749\">\n",
              "    <div class=\"colab-df-container\">\n",
              "      <div>\n",
              "<style scoped>\n",
              "    .dataframe tbody tr th:only-of-type {\n",
              "        vertical-align: middle;\n",
              "    }\n",
              "\n",
              "    .dataframe tbody tr th {\n",
              "        vertical-align: top;\n",
              "    }\n",
              "\n",
              "    .dataframe thead th {\n",
              "        text-align: right;\n",
              "    }\n",
              "</style>\n",
              "<table border=\"1\" class=\"dataframe\">\n",
              "  <thead>\n",
              "    <tr style=\"text-align: right;\">\n",
              "      <th></th>\n",
              "      <th>YearOfObservation</th>\n",
              "      <th>Insured_Period</th>\n",
              "      <th>Residential</th>\n",
              "      <th>Building Dimension</th>\n",
              "      <th>Building_Type</th>\n",
              "      <th>Date_of_Occupancy</th>\n",
              "      <th>Claim</th>\n",
              "    </tr>\n",
              "  </thead>\n",
              "  <tbody>\n",
              "    <tr>\n",
              "      <th>YearOfObservation</th>\n",
              "      <td>1.000000</td>\n",
              "      <td>0.025434</td>\n",
              "      <td>-0.040391</td>\n",
              "      <td>0.009128</td>\n",
              "      <td>0.005490</td>\n",
              "      <td>-0.029492</td>\n",
              "      <td>-0.016367</td>\n",
              "    </tr>\n",
              "    <tr>\n",
              "      <th>Insured_Period</th>\n",
              "      <td>0.025434</td>\n",
              "      <td>1.000000</td>\n",
              "      <td>-0.037620</td>\n",
              "      <td>0.007473</td>\n",
              "      <td>-0.017811</td>\n",
              "      <td>-0.003445</td>\n",
              "      <td>0.088715</td>\n",
              "    </tr>\n",
              "    <tr>\n",
              "      <th>Residential</th>\n",
              "      <td>-0.040391</td>\n",
              "      <td>-0.037620</td>\n",
              "      <td>1.000000</td>\n",
              "      <td>0.057481</td>\n",
              "      <td>0.334039</td>\n",
              "      <td>-0.042058</td>\n",
              "      <td>0.063509</td>\n",
              "    </tr>\n",
              "    <tr>\n",
              "      <th>Building Dimension</th>\n",
              "      <td>0.009128</td>\n",
              "      <td>0.007473</td>\n",
              "      <td>0.057481</td>\n",
              "      <td>1.000000</td>\n",
              "      <td>0.007935</td>\n",
              "      <td>0.207624</td>\n",
              "      <td>0.297089</td>\n",
              "    </tr>\n",
              "    <tr>\n",
              "      <th>Building_Type</th>\n",
              "      <td>0.005490</td>\n",
              "      <td>-0.017811</td>\n",
              "      <td>0.334039</td>\n",
              "      <td>0.007935</td>\n",
              "      <td>1.000000</td>\n",
              "      <td>-0.146608</td>\n",
              "      <td>0.112168</td>\n",
              "    </tr>\n",
              "    <tr>\n",
              "      <th>Date_of_Occupancy</th>\n",
              "      <td>-0.029492</td>\n",
              "      <td>-0.003445</td>\n",
              "      <td>-0.042058</td>\n",
              "      <td>0.207624</td>\n",
              "      <td>-0.146608</td>\n",
              "      <td>1.000000</td>\n",
              "      <td>0.019170</td>\n",
              "    </tr>\n",
              "    <tr>\n",
              "      <th>Claim</th>\n",
              "      <td>-0.016367</td>\n",
              "      <td>0.088715</td>\n",
              "      <td>0.063509</td>\n",
              "      <td>0.297089</td>\n",
              "      <td>0.112168</td>\n",
              "      <td>0.019170</td>\n",
              "      <td>1.000000</td>\n",
              "    </tr>\n",
              "  </tbody>\n",
              "</table>\n",
              "</div>\n",
              "      <button class=\"colab-df-convert\" onclick=\"convertToInteractive('df-f517d30a-3388-4e81-8d0d-336aebeb9749')\"\n",
              "              title=\"Convert this dataframe to an interactive table.\"\n",
              "              style=\"display:none;\">\n",
              "        \n",
              "  <svg xmlns=\"http://www.w3.org/2000/svg\" height=\"24px\"viewBox=\"0 0 24 24\"\n",
              "       width=\"24px\">\n",
              "    <path d=\"M0 0h24v24H0V0z\" fill=\"none\"/>\n",
              "    <path d=\"M18.56 5.44l.94 2.06.94-2.06 2.06-.94-2.06-.94-.94-2.06-.94 2.06-2.06.94zm-11 1L8.5 8.5l.94-2.06 2.06-.94-2.06-.94L8.5 2.5l-.94 2.06-2.06.94zm10 10l.94 2.06.94-2.06 2.06-.94-2.06-.94-.94-2.06-.94 2.06-2.06.94z\"/><path d=\"M17.41 7.96l-1.37-1.37c-.4-.4-.92-.59-1.43-.59-.52 0-1.04.2-1.43.59L10.3 9.45l-7.72 7.72c-.78.78-.78 2.05 0 2.83L4 21.41c.39.39.9.59 1.41.59.51 0 1.02-.2 1.41-.59l7.78-7.78 2.81-2.81c.8-.78.8-2.07 0-2.86zM5.41 20L4 18.59l7.72-7.72 1.47 1.35L5.41 20z\"/>\n",
              "  </svg>\n",
              "      </button>\n",
              "      \n",
              "  <style>\n",
              "    .colab-df-container {\n",
              "      display:flex;\n",
              "      flex-wrap:wrap;\n",
              "      gap: 12px;\n",
              "    }\n",
              "\n",
              "    .colab-df-convert {\n",
              "      background-color: #E8F0FE;\n",
              "      border: none;\n",
              "      border-radius: 50%;\n",
              "      cursor: pointer;\n",
              "      display: none;\n",
              "      fill: #1967D2;\n",
              "      height: 32px;\n",
              "      padding: 0 0 0 0;\n",
              "      width: 32px;\n",
              "    }\n",
              "\n",
              "    .colab-df-convert:hover {\n",
              "      background-color: #E2EBFA;\n",
              "      box-shadow: 0px 1px 2px rgba(60, 64, 67, 0.3), 0px 1px 3px 1px rgba(60, 64, 67, 0.15);\n",
              "      fill: #174EA6;\n",
              "    }\n",
              "\n",
              "    [theme=dark] .colab-df-convert {\n",
              "      background-color: #3B4455;\n",
              "      fill: #D2E3FC;\n",
              "    }\n",
              "\n",
              "    [theme=dark] .colab-df-convert:hover {\n",
              "      background-color: #434B5C;\n",
              "      box-shadow: 0px 1px 3px 1px rgba(0, 0, 0, 0.15);\n",
              "      filter: drop-shadow(0px 1px 2px rgba(0, 0, 0, 0.3));\n",
              "      fill: #FFFFFF;\n",
              "    }\n",
              "  </style>\n",
              "\n",
              "      <script>\n",
              "        const buttonEl =\n",
              "          document.querySelector('#df-f517d30a-3388-4e81-8d0d-336aebeb9749 button.colab-df-convert');\n",
              "        buttonEl.style.display =\n",
              "          google.colab.kernel.accessAllowed ? 'block' : 'none';\n",
              "\n",
              "        async function convertToInteractive(key) {\n",
              "          const element = document.querySelector('#df-f517d30a-3388-4e81-8d0d-336aebeb9749');\n",
              "          const dataTable =\n",
              "            await google.colab.kernel.invokeFunction('convertToInteractive',\n",
              "                                                     [key], {});\n",
              "          if (!dataTable) return;\n",
              "\n",
              "          const docLinkHtml = 'Like what you see? Visit the ' +\n",
              "            '<a target=\"_blank\" href=https://colab.research.google.com/notebooks/data_table.ipynb>data table notebook</a>'\n",
              "            + ' to learn more about interactive tables.';\n",
              "          element.innerHTML = '';\n",
              "          dataTable['output_type'] = 'display_data';\n",
              "          await google.colab.output.renderOutput(dataTable, element);\n",
              "          const docLink = document.createElement('div');\n",
              "          docLink.innerHTML = docLinkHtml;\n",
              "          element.appendChild(docLink);\n",
              "        }\n",
              "      </script>\n",
              "    </div>\n",
              "  </div>\n",
              "  "
            ],
            "text/plain": [
              "                    YearOfObservation  ...     Claim\n",
              "YearOfObservation            1.000000  ... -0.016367\n",
              "Insured_Period               0.025434  ...  0.088715\n",
              "Residential                 -0.040391  ...  0.063509\n",
              "Building Dimension           0.009128  ...  0.297089\n",
              "Building_Type                0.005490  ...  0.112168\n",
              "Date_of_Occupancy           -0.029492  ...  0.019170\n",
              "Claim                       -0.016367  ...  1.000000\n",
              "\n",
              "[7 rows x 7 columns]"
            ]
          },
          "metadata": {},
          "execution_count": 307
        }
      ]
    },
    {
      "cell_type": "markdown",
      "source": [
        "**Check for columns with missing values**\n",
        "\n",
        "create function that the percentage of missing values in each column that contains missing value"
      ],
      "metadata": {
        "id": "5sFcsir0toIS"
      }
    },
    {
      "cell_type": "code",
      "source": [
        "def plot_missing(data):\n",
        "  if data.isnull().sum().sum() != 0:\n",
        "    missing = data.isnull().sum()[data.isnull().sum() != 0].sort_values()\n",
        "    size = data.shape[0]\n",
        "    index = missing.index\n",
        "    values = missing.values\n",
        "    fig, ax = plt.subplots()\n",
        "    ax.barh(index, values)\n",
        "    ax.set_xlabel('Number of missing values')\n",
        "    ax.set_ylabel('Column')\n",
        "    plt.title(\"Percentage Of Missing Values in Data\")\n",
        "\n",
        "    for p in ax.patches:\n",
        "      height, width = p.get_height(), p.get_width()\n",
        "      label = '{}%.'.format(round(width/size, 2))\n",
        "      x = width\n",
        "      y = p.get_y() + height/2\n",
        "      ax.annotate(label,(x,y))\n",
        "\n",
        "    else:\n",
        "      print('The dataframe contains no missing values')\n",
        "\n",
        "\n"
      ],
      "metadata": {
        "id": "AlfuTzUCtSEF"
      },
      "execution_count": null,
      "outputs": []
    },
    {
      "cell_type": "code",
      "source": [
        "plot_missing(train)"
      ],
      "metadata": {
        "colab": {
          "base_uri": "https://localhost:8080/",
          "height": 312
        },
        "id": "5gtNMpn5uYGx",
        "outputId": "810f8dae-ca12-42d2-f9fe-9ccf3560f534"
      },
      "execution_count": null,
      "outputs": [
        {
          "output_type": "stream",
          "name": "stdout",
          "text": [
            "The dataframe contains no missing values\n"
          ]
        },
        {
          "output_type": "display_data",
          "data": {
            "image/png": "[encoded data removed]",
            "text/plain": [
              "<Figure size 432x288 with 1 Axes>"
            ]
          },
          "metadata": {
            "needs_background": "light"
          }
        }
      ]
    },
    {
      "cell_type": "markdown",
      "source": [
        "Explore Target Variable\n",
        "\n",
        "See The Number of each count in the target\n",
        "\n",
        "Plot the resulting series"
      ],
      "metadata": {
        "id": "fTUUcIam4b7J"
      }
    },
    {
      "cell_type": "code",
      "source": [
        "train.Claim.value_counts().plot.bar()\n",
        "plt.title('Distribution Of The Claim Feature')\n",
        "plt.show()"
      ],
      "metadata": {
        "colab": {
          "base_uri": "https://localhost:8080/",
          "height": 278
        },
        "id": "NeepUmq70OFe",
        "outputId": "c978ed72-215c-401b-845c-4ec4a6d2410c"
      },
      "execution_count": null,
      "outputs": [
        {
          "output_type": "display_data",
          "data": {
            "image/png": "[encoded data removed]",
            "text/plain": [
              "<Figure size 432x288 with 1 Axes>"
            ]
          },
          "metadata": {
            "needs_background": "light"
          }
        }
      ]
    },
    {
      "cell_type": "code",
      "source": [
        "sns.catplot(data =train,x='Building_Type', hue='Claim',kind='count')"
      ],
      "metadata": {
        "colab": {
          "base_uri": "https://localhost:8080/",
          "height": 386
        },
        "id": "dlss_pNn4xYO",
        "outputId": "f98dedc0-5929-4639-f11f-3eacd20405d9"
      },
      "execution_count": null,
      "outputs": [
        {
          "output_type": "execute_result",
          "data": {
            "text/plain": [
              "<seaborn.axisgrid.FacetGrid at 0x7f6d18880b90>"
            ]
          },
          "metadata": {},
          "execution_count": 311
        },
        {
          "output_type": "display_data",
          "data": {
            "image/png": "[encoded data removed]",
            "text/plain": [
              "<Figure size 402.375x360 with 1 Axes>"
            ]
          },
          "metadata": {
            "needs_background": "light"
          }
        }
      ]
    },
    {
      "cell_type": "markdown",
      "source": [
        "Explore the Geo_code Object model"
      ],
      "metadata": {
        "id": "KaIqV27ET0W5"
      }
    },
    {
      "cell_type": "code",
      "source": [
        "train.Geo_Code.value_counts()"
      ],
      "metadata": {
        "colab": {
          "base_uri": "https://localhost:8080/"
        },
        "id": "swCe7p_CN2_U",
        "outputId": "dbe57b97-7f5c-480e-c37c-876fc961f5ce"
      },
      "execution_count": null,
      "outputs": [
        {
          "output_type": "execute_result",
          "data": {
            "text/plain": [
              "6088     143\n",
              "33063    137\n",
              "6083     113\n",
              "13206     98\n",
              "31555     87\n",
              "        ... \n",
              "59650      1\n",
              "59656      1\n",
              "60057      1\n",
              "60172      1\n",
              "2B353      1\n",
              "Name: Geo_Code, Length: 1307, dtype: int64"
            ]
          },
          "metadata": {},
          "execution_count": 312
        }
      ]
    },
    {
      "cell_type": "markdown",
      "source": [
        "The data has NumberOfWindows column as an object, Lets explore this column"
      ],
      "metadata": {
        "id": "PlUxwu-xcWik"
      }
    },
    {
      "cell_type": "code",
      "source": [
        "train.NumberOfWindows.value_counts()"
      ],
      "metadata": {
        "colab": {
          "base_uri": "https://localhost:8080/"
        },
        "id": "NQEl_HknTzbI",
        "outputId": "904fd4bf-2aca-4413-d092-cfe7c56272a7"
      },
      "execution_count": null,
      "outputs": [
        {
          "output_type": "execute_result",
          "data": {
            "text/plain": [
              "   .    3551\n",
              "4        939\n",
              "3        844\n",
              "5        639\n",
              "2        363\n",
              "6        306\n",
              "7        211\n",
              "8        116\n",
              "1         75\n",
              ">=10      67\n",
              "9         49\n",
              "Name: NumberOfWindows, dtype: int64"
            ]
          },
          "metadata": {},
          "execution_count": 313
        }
      ]
    },
    {
      "cell_type": "markdown",
      "source": [
        "Explore new features, maybe Age of property as YearOfObservation - Date_of_Occupancy "
      ],
      "metadata": {
        "id": "A92utWkTS9kf"
      }
    },
    {
      "cell_type": "code",
      "source": [
        "train['Age'] = train['YearOfObservation'] - train['Date_of_Occupancy']"
      ],
      "metadata": {
        "id": "IbJTkWtFTgzf"
      },
      "execution_count": null,
      "outputs": []
    },
    {
      "cell_type": "code",
      "source": [
        "## see the distribution of age with respect to claim\n",
        "sns.stripplot(x='Claim',y= 'Age',data = train)\n",
        "plt.title('Scatter Distribution Of Age Against Claim')"
      ],
      "metadata": {
        "colab": {
          "base_uri": "https://localhost:8080/",
          "height": 312
        },
        "id": "hl4NBM-nUZRt",
        "outputId": "7f3d8915-1527-4f4e-8e70-5647a8ec549a"
      },
      "execution_count": null,
      "outputs": [
        {
          "output_type": "execute_result",
          "data": {
            "text/plain": [
              "Text(0.5, 1.0, 'Scatter Distribution Of Age Against Claim')"
            ]
          },
          "metadata": {},
          "execution_count": 315
        },
        {
          "output_type": "display_data",
          "data": {
            "image/png": "[encoded data removed]",
            "text/plain": [
              "<Figure size 432x288 with 1 Axes>"
            ]
          },
          "metadata": {
            "needs_background": "light"
          }
        }
      ]
    },
    {
      "cell_type": "code",
      "source": [
        "sns.stripplot(y='Building Dimension',x=  'Claim', data = train)\n",
        "plt.title('Scatter Distribution Of Building Dimensions')"
      ],
      "metadata": {
        "colab": {
          "base_uri": "https://localhost:8080/",
          "height": 312
        },
        "id": "aBgsV4DEV5Po",
        "outputId": "52d299f6-807a-4434-e821-6b1e71325093"
      },
      "execution_count": null,
      "outputs": [
        {
          "output_type": "execute_result",
          "data": {
            "text/plain": [
              "Text(0.5, 1.0, 'Scatter Distribution Of Building Dimensions')"
            ]
          },
          "metadata": {},
          "execution_count": 316
        },
        {
          "output_type": "display_data",
          "data": {
            "image/png": "[encoded data removed]",
            "text/plain": [
              "<Figure size 432x288 with 1 Axes>"
            ]
          },
          "metadata": {
            "needs_background": "light"
          }
        }
      ]
    },
    {
      "cell_type": "code",
      "source": [
        "train['Age'].hist()"
      ],
      "metadata": {
        "colab": {
          "base_uri": "https://localhost:8080/",
          "height": 284
        },
        "id": "BB6sAqx0vz2m",
        "outputId": "14525062-742d-4300-c300-79dfda591eec"
      },
      "execution_count": null,
      "outputs": [
        {
          "output_type": "execute_result",
          "data": {
            "text/plain": [
              "<matplotlib.axes._subplots.AxesSubplot at 0x7f6d18711a50>"
            ]
          },
          "metadata": {},
          "execution_count": 317
        },
        {
          "output_type": "display_data",
          "data": {
            "image/png": "[encoded data removed]",
            "text/plain": [
              "<Figure size 432x288 with 1 Axes>"
            ]
          },
          "metadata": {
            "needs_background": "light"
          }
        }
      ]
    },
    {
      "cell_type": "code",
      "source": [
        "(np.log(train['Age'] + 1)).hist()"
      ],
      "metadata": {
        "colab": {
          "base_uri": "https://localhost:8080/",
          "height": 282
        },
        "id": "HEVgR2of7Btw",
        "outputId": "e4ac0983-f871-4c3b-a70b-09468a0ace94"
      },
      "execution_count": null,
      "outputs": [
        {
          "output_type": "execute_result",
          "data": {
            "text/plain": [
              "<matplotlib.axes._subplots.AxesSubplot at 0x7f6d18634090>"
            ]
          },
          "metadata": {},
          "execution_count": 318
        },
        {
          "output_type": "display_data",
          "data": {
            "image/png": "[encoded data removed]",
            "text/plain": [
              "<Figure size 432x288 with 1 Axes>"
            ]
          },
          "metadata": {
            "needs_background": "light"
          }
        }
      ]
    },
    {
      "cell_type": "code",
      "source": [
        "(np.log(train['Building Dimension'] + 1)).hist()"
      ],
      "metadata": {
        "colab": {
          "base_uri": "https://localhost:8080/",
          "height": 282
        },
        "id": "MBarnQsG0eBd",
        "outputId": "b22c10b0-d7c5-4577-bcf0-7d635bcfa3fb"
      },
      "execution_count": null,
      "outputs": [
        {
          "output_type": "execute_result",
          "data": {
            "text/plain": [
              "<matplotlib.axes._subplots.AxesSubplot at 0x7f6d1810acd0>"
            ]
          },
          "metadata": {},
          "execution_count": 366
        },
        {
          "output_type": "display_data",
          "data": {
            "image/png": "[encoded data removed]",
            "text/plain": [
              "<Figure size 432x288 with 1 Axes>"
            ]
          },
          "metadata": {
            "needs_background": "light"
          }
        }
      ]
    },
    {
      "cell_type": "markdown",
      "source": [
        "### Summary Of EDA\n",
        "\n",
        "\n",
        "*   Date_Of_Occupancy had most missing values\n",
        "*   The target column 'Claim' is highly imbalance, with the positive class being less than 30% of the whole dataset \n",
        "*   Most buildings in the dataset is of type 2\n",
        "*   The probability of a building with age above 200 having an insurance claim is very minimial\n",
        "*   More of the building abovewith dimension above 10000 have insurance claims\n",
        "\n",
        "\n"
      ],
      "metadata": {
        "id": "OVZ5Ai5keFu7"
      }
    },
    {
      "cell_type": "markdown",
      "source": [
        "## Data Preparation For Modelling"
      ],
      "metadata": {
        "id": "WpamiBFbgcJ9"
      }
    },
    {
      "cell_type": "markdown",
      "source": [
        "From the EDA:- \n",
        "\n",
        "*   The dataset contains a combination of both categorical and numerical columns\n",
        "*   Some most object datatype columns require onehotencoding while the number of windows require ordinal encoding\n",
        "*   Some columns contains misssing values, it will be nice to fill the missing values with median for numerical columns and mode for categorical columns\n",
        "*   The building dimension column might require some feature transformation\n",
        "*   It will necessary to perform feature generation , Age\n",
        "\n",
        "It will nice to create a transformation pipeline for the all the preprocessing steps. This approach keeps the code base neat and helps aviod data snooping on the test set.\n",
        "\n"
      ],
      "metadata": {
        "id": "RwQmoAtxgi3m"
      }
    },
    {
      "cell_type": "markdown",
      "source": [
        "Import the necessary libraries for preprocessing"
      ],
      "metadata": {
        "id": "21iU_UiWjYjb"
      }
    },
    {
      "cell_type": "code",
      "source": [
        "from sklearn.impute import SimpleImputer\n",
        "from sklearn.preprocessing import OneHotEncoder\n",
        "from sklearn.preprocessing import OrdinalEncoder\n",
        "from sklearn.pipeline import Pipeline\n",
        "from sklearn.preprocessing import MinMaxScaler\n",
        "from sklearn.compose import ColumnTransformer"
      ],
      "metadata": {
        "id": "AF7jUnO6dJdi"
      },
      "execution_count": null,
      "outputs": []
    },
    {
      "cell_type": "markdown",
      "source": [
        "Create a copy of the data for preprocessing, then divide the data to features and labels set"
      ],
      "metadata": {
        "id": "5Wqdh4cqzCi2"
      }
    },
    {
      "cell_type": "code",
      "source": [
        "train_2 = train_data.copy()"
      ],
      "metadata": {
        "id": "aJyX3LwqzA1-"
      },
      "execution_count": null,
      "outputs": []
    },
    {
      "cell_type": "code",
      "source": [
        "X_train = train_2.drop('Claim',axis = 1)\n",
        "y_train = train_2['Claim']"
      ],
      "metadata": {
        "id": "R3dToS3PzUCi"
      },
      "execution_count": null,
      "outputs": []
    },
    {
      "cell_type": "markdown",
      "source": [
        "Divide the train set to catgorical and numerical column, for the catigorical column, we will fil the missing value with the mode while for the numerical columns, we will fill the missing value with the median"
      ],
      "metadata": {
        "id": "tBceprHqwYDL"
      }
    },
    {
      "cell_type": "code",
      "source": [
        "num_attris = [num for num in X_train.columns if X_train[num].dtype == 'float64'] + ['YearOfObservation']\n",
        "num_attris"
      ],
      "metadata": {
        "colab": {
          "base_uri": "https://localhost:8080/"
        },
        "id": "izyKxCk0wTnq",
        "outputId": "f5b9d916-4037-4197-a73f-740d62d8f230"
      },
      "execution_count": null,
      "outputs": [
        {
          "output_type": "execute_result",
          "data": {
            "text/plain": [
              "['Insured_Period',\n",
              " 'Building Dimension',\n",
              " 'Date_of_Occupancy',\n",
              " 'YearOfObservation']"
            ]
          },
          "metadata": {},
          "execution_count": 322
        }
      ]
    },
    {
      "cell_type": "code",
      "source": [
        "cat_attris_1 = ['Residential','Building_Painted','Building_Fenced','Garden','Settlement','Building_Type']\n",
        "cat_attris_2 = ['NumberOfWindows']"
      ],
      "metadata": {
        "id": "KeJXfWNS22Iz"
      },
      "execution_count": null,
      "outputs": []
    },
    {
      "cell_type": "markdown",
      "source": [
        "Create a custom class that creates a new feature 'age', and also log transforms the building_dimension and age"
      ],
      "metadata": {
        "id": "KQCGeJISAFhz"
      }
    },
    {
      "cell_type": "code",
      "source": [
        "from sklearn.base import BaseEstimator, TransformerMixin\n",
        "building_dimension_ix, date_of_occupancy_ix, year_of_observation_ix = 1,2,3\n",
        "class MyCustomTransfomer(BaseEstimator, TransformerMixin):\n",
        "\n",
        "  def __init__(self,log_transform = True):\n",
        "    self.log_transform = log_transform\n",
        "\n",
        "  def fit(self, X, y= None):\n",
        "    return self\n",
        "\n",
        "  def transform(self, X, y=None):\n",
        "    property_age = X[:, year_of_observation_ix] - X[:, date_of_occupancy_ix]\n",
        "    if self.log_transform:\n",
        "      X[:building_dimension_ix] = np.log(X[:building_dimension_ix] + 1)\n",
        "      property_age = np.log(property_age + 1)\n",
        "      return np.c_[X,property_age]\n",
        "    else:\n",
        "      return np.c_[X,property_age]\n"
      ],
      "metadata": {
        "id": "n5IvqQ3LqNYC"
      },
      "execution_count": null,
      "outputs": []
    },
    {
      "cell_type": "markdown",
      "source": [
        "Create a transformer pipeline for the num_attributes\n",
        "\n",
        "First create one with log_transform = True\n",
        "and another with log_transform = False . This will help compare the performance of our model to log transformation"
      ],
      "metadata": {
        "id": "VDV-Ii3zAi97"
      }
    },
    {
      "cell_type": "code",
      "source": [
        "num_pipe_1 = Pipeline([('imputer', SimpleImputer(strategy= 'median')),\n",
        "                     ('mycustomtransformer',MyCustomTransfomer(log_transform = True)),\n",
        "                     ('std_scaler', MinMaxScaler())])"
      ],
      "metadata": {
        "id": "41u2g_Yw7roS"
      },
      "execution_count": null,
      "outputs": []
    },
    {
      "cell_type": "code",
      "source": [
        "num_pipe_2 = Pipeline([('imputer', SimpleImputer(strategy= 'median')),\n",
        "                     ('mycustomtransformer',MyCustomTransfomer(log_transform = False)),\n",
        "                     ('std_scaler', MinMaxScaler())])"
      ],
      "metadata": {
        "id": "mopSDCzqNPEE"
      },
      "execution_count": null,
      "outputs": []
    },
    {
      "cell_type": "markdown",
      "source": [
        "Create a transformer pipeline for object columns that require onehot encoding"
      ],
      "metadata": {
        "id": "xX3pXDoJLpdS"
      }
    },
    {
      "cell_type": "code",
      "source": [
        "cat_one_pipe = Pipeline([('imputer', SimpleImputer(strategy= 'most_frequent')),\n",
        "                         ('encode', OneHotEncoder())])"
      ],
      "metadata": {
        "id": "h9XD2ZbrDUXF"
      },
      "execution_count": null,
      "outputs": []
    },
    {
      "cell_type": "markdown",
      "source": [
        "Create a transformer Pipeline for the NumberOfWindows column that requires ordinal encoding"
      ],
      "metadata": {
        "id": "7-MAY25mLS9H"
      }
    },
    {
      "cell_type": "code",
      "source": [
        "cat_two_pipe = Pipeline([('imputer', SimpleImputer(strategy= 'most_frequent')),\n",
        "                         ('encode', OrdinalEncoder()),\n",
        "                         ('scale', MinMaxScaler())])"
      ],
      "metadata": {
        "id": "xz5HW-pWEQ6k"
      },
      "execution_count": null,
      "outputs": []
    },
    {
      "cell_type": "markdown",
      "source": [
        "Next implement a colum transformer to perform the # transformations above on the train data"
      ],
      "metadata": {
        "id": "FYCNSNi4Gs3N"
      }
    },
    {
      "cell_type": "code",
      "source": [
        "full_pipe_1 = ColumnTransformer([('num',num_pipe_1, num_attris),\n",
        "                               ('cat_1', cat_one_pipe, cat_attris_1),\n",
        "                               ('cat_2', cat_two_pipe, cat_attris_2)])"
      ],
      "metadata": {
        "id": "v-zPxBgnNY3b"
      },
      "execution_count": null,
      "outputs": []
    },
    {
      "cell_type": "code",
      "source": [
        "full_pipe_2 = ColumnTransformer([('num',num_pipe_2, num_attris),\n",
        "                               ('cat_1', cat_one_pipe, cat_attris_1),\n",
        "                               ('cat_2', cat_two_pipe, cat_attris_2)])"
      ],
      "metadata": {
        "id": "hwWmlzEeNdqm"
      },
      "execution_count": null,
      "outputs": []
    },
    {
      "cell_type": "code",
      "source": [
        "data_prepared_1 = full_pipe_1.fit_transform(X_train)\n",
        "data_prepared_2 = full_pipe_2.fit_transform(X_train)"
      ],
      "metadata": {
        "id": "CKKwGvRaHso_"
      },
      "execution_count": null,
      "outputs": []
    },
    {
      "cell_type": "markdown",
      "source": [
        "## Model Building"
      ],
      "metadata": {
        "id": "iMCP_kMhN3Y7"
      }
    },
    {
      "cell_type": "markdown",
      "source": [
        "Import the necessary Labraries for modelling\n",
        "\n",
        "**Note** : roc_auc will be used as base metrics for validation as this competition uses it for ranking"
      ],
      "metadata": {
        "id": "zFngbnA9OCYD"
      }
    },
    {
      "cell_type": "code",
      "source": [
        "from sklearn.linear_model import LogisticRegression\n",
        "from sklearn.tree import DecisionTreeClassifier\n",
        "from sklearn.ensemble import RandomForestClassifier\n",
        "from sklearn.model_selection import cross_val_score\n",
        "from sklearn.metrics import accuracy_score\n",
        "from xgboost.sklearn import XGBClassifier\n",
        "from sklearn.metrics import confusion_matrix\n",
        "from sklearn.metrics import roc_auc_score"
      ],
      "metadata": {
        "id": "yuG-xRFuJopY"
      },
      "execution_count": null,
      "outputs": []
    },
    {
      "cell_type": "markdown",
      "source": [
        "Create a vaidation function that performs validation on the various models and returns the mean_score and standard_deviation for that model"
      ],
      "metadata": {
        "id": "JflPekUJQW6l"
      }
    },
    {
      "cell_type": "code",
      "source": [
        "def validate(estimator,X,y) :\n",
        "  scores = cross_val_score(estimator,X,y,scoring='roc_auc',cv= 5).mean()\n",
        "  print('The mean score is {}'.format(scores.mean()))\n",
        "  print('The std is {}'.format(scores.std()))"
      ],
      "metadata": {
        "id": "lL9unjh3QTcR"
      },
      "execution_count": null,
      "outputs": []
    },
    {
      "cell_type": "markdown",
      "source": [
        "#### Make Prediction On BaseModel"
      ],
      "metadata": {
        "id": "4gKfufdXY9-5"
      }
    },
    {
      "cell_type": "markdown",
      "source": [
        "Create a base model that predicts all Negative class and check for the accuracy, we can achieve this via a class"
      ],
      "metadata": {
        "id": "QM0AMzJQTGYY"
      }
    },
    {
      "cell_type": "code",
      "source": [
        "class BaseModel :\n",
        "  def __init__(self):\n",
        "    pass\n",
        "    \n",
        "  def fit(self, X, y):\n",
        "    return type(self).__name__+ '()'\n",
        "\n",
        "  def predict(self, X):\n",
        "    size = X.shape[0]\n",
        "    return np.full(size, 0)\n"
      ],
      "metadata": {
        "id": "vjRIy1pWS6vD"
      },
      "execution_count": null,
      "outputs": []
    },
    {
      "cell_type": "markdown",
      "source": [
        "Create an instance of the base model and make predictions on it "
      ],
      "metadata": {
        "id": "LDO1cHTUWPw-"
      }
    },
    {
      "cell_type": "code",
      "source": [
        "base_model = BaseModel()\n",
        "base_model.fit(data_prepared_1, y_train)\n"
      ],
      "metadata": {
        "colab": {
          "base_uri": "https://localhost:8080/",
          "height": 35
        },
        "id": "uNDbWhXkVZGS",
        "outputId": "4b0d23ce-f529-4334-f4d8-3d2532e03b91"
      },
      "execution_count": null,
      "outputs": [
        {
          "output_type": "execute_result",
          "data": {
            "application/vnd.google.colaboratory.intrinsic+json": {
              "type": "string"
            },
            "text/plain": [
              "'BaseModel()'"
            ]
          },
          "metadata": {},
          "execution_count": 335
        }
      ]
    },
    {
      "cell_type": "code",
      "source": [
        "y_base_pred = base_model.predict(data_prepared_1)"
      ],
      "metadata": {
        "id": "SjotQeZ1V7OG"
      },
      "execution_count": null,
      "outputs": []
    },
    {
      "cell_type": "code",
      "source": [
        "## check the roc-auc\n",
        "accuracy_score(y_train, y_base_pred)"
      ],
      "metadata": {
        "colab": {
          "base_uri": "https://localhost:8080/"
        },
        "id": "1uOKrpxTYt4q",
        "outputId": "49094f29-2866-4c90-da11-8b58dc215b0c"
      },
      "execution_count": null,
      "outputs": [
        {
          "output_type": "execute_result",
          "data": {
            "text/plain": [
              "0.7717877094972067"
            ]
          },
          "metadata": {},
          "execution_count": 337
        }
      ]
    },
    {
      "cell_type": "markdown",
      "source": [
        "#### Build a LogisticRegression Model"
      ],
      "metadata": {
        "id": "8sgu7OEKZS-Z"
      }
    },
    {
      "cell_type": "code",
      "source": [
        "log_model = LogisticRegression(max_iter=1000)"
      ],
      "metadata": {
        "id": "n6oWaLNSZRyP"
      },
      "execution_count": null,
      "outputs": []
    },
    {
      "cell_type": "markdown",
      "source": [
        "first fit the data_prepared_1 and then on data_prepared_2 and compare thier accuracies"
      ],
      "metadata": {
        "id": "NEuikKi7ZqAc"
      }
    },
    {
      "cell_type": "code",
      "source": [
        "log_model.fit(data_prepared_1,y_train)\n",
        "accuracy_score(y_train,log_model.predict(data_prepared_1))"
      ],
      "metadata": {
        "colab": {
          "base_uri": "https://localhost:8080/"
        },
        "id": "kdJQl4-AY4vB",
        "outputId": "77f1d7a5-16c2-45cf-ffa7-8c5c0936a6f0"
      },
      "execution_count": null,
      "outputs": [
        {
          "output_type": "execute_result",
          "data": {
            "text/plain": [
              "0.7868715083798883"
            ]
          },
          "metadata": {},
          "execution_count": 339
        }
      ]
    },
    {
      "cell_type": "code",
      "source": [
        "log_model.fit(data_prepared_1,y_train)\n",
        "roc_auc_score(y_train,log_model.predict_proba(data_prepared_1)[:,1])"
      ],
      "metadata": {
        "colab": {
          "base_uri": "https://localhost:8080/"
        },
        "id": "OEMkOog0mTuk",
        "outputId": "5427fbf0-f966-4a63-a600-a158398a241a"
      },
      "execution_count": null,
      "outputs": [
        {
          "output_type": "execute_result",
          "data": {
            "text/plain": [
              "0.7148843167560849"
            ]
          },
          "metadata": {},
          "execution_count": 340
        }
      ]
    },
    {
      "cell_type": "code",
      "source": [
        "log_model.fit(data_prepared_2,y_train)\n",
        "roc_auc_score(y_train,log_model.predict_proba(data_prepared_2)[:,1])"
      ],
      "metadata": {
        "colab": {
          "base_uri": "https://localhost:8080/"
        },
        "id": "yt-Re_N5aHxG",
        "outputId": "62118493-10fb-4d13-ccb3-924739e9097f"
      },
      "execution_count": null,
      "outputs": [
        {
          "output_type": "execute_result",
          "data": {
            "text/plain": [
              "0.71394760763738"
            ]
          },
          "metadata": {},
          "execution_count": 341
        }
      ]
    },
    {
      "cell_type": "code",
      "source": [
        "## Validate logistics model\n",
        "validate(log_model,data_prepared_1,y_train)"
      ],
      "metadata": {
        "colab": {
          "base_uri": "https://localhost:8080/"
        },
        "id": "6vKyDpADic2S",
        "outputId": "99ef304e-354c-4d2b-cd88-1d19d4131244"
      },
      "execution_count": null,
      "outputs": [
        {
          "output_type": "stream",
          "name": "stdout",
          "text": [
            "The mean score is 0.7124951421802863\n",
            "The std is 0.0\n"
          ]
        }
      ]
    },
    {
      "cell_type": "markdown",
      "source": [
        "From the above, the logistics regression model performs better than the base model and the data with log transformation performs slightly better than the one without, therefore it will be okay to use data_prepared_1 as x_train"
      ],
      "metadata": {
        "id": "VwsJuVjOatAB"
      }
    },
    {
      "cell_type": "markdown",
      "source": [
        "#### Build Model With DecisionTreeClassifier\n"
      ],
      "metadata": {
        "id": "YPSwTUaxiR7T"
      }
    },
    {
      "cell_type": "code",
      "source": [
        "tree_model = DecisionTreeClassifier(random_state=42,max_depth=4)\n",
        "tree_model.fit(data_prepared_1,y_train)\n",
        "roc_auc_score(y_train, tree_model.predict_proba(data_prepared_1)[:,1])"
      ],
      "metadata": {
        "colab": {
          "base_uri": "https://localhost:8080/"
        },
        "id": "NEenqk0ZbX3D",
        "outputId": "fb2a37b0-4720-4b6a-9707-ca3373a1f1b4"
      },
      "execution_count": null,
      "outputs": [
        {
          "output_type": "execute_result",
          "data": {
            "text/plain": [
              "0.7151823958046772"
            ]
          },
          "metadata": {},
          "execution_count": 343
        }
      ]
    },
    {
      "cell_type": "code",
      "source": [
        "## Validate tree model\n",
        "validate(tree_model,data_prepared_1,y_train)"
      ],
      "metadata": {
        "colab": {
          "base_uri": "https://localhost:8080/"
        },
        "id": "Q0vUrybRnfoY",
        "outputId": "f107db02-79e9-4d72-9602-fc67795a18a8"
      },
      "execution_count": null,
      "outputs": [
        {
          "output_type": "stream",
          "name": "stdout",
          "text": [
            "The mean score is 0.6855274252384876\n",
            "The std is 0.0\n"
          ]
        }
      ]
    },
    {
      "cell_type": "markdown",
      "source": [
        "#### Build Model With RandomForestClassifier"
      ],
      "metadata": {
        "id": "UNhyh8LJn55L"
      }
    },
    {
      "cell_type": "code",
      "source": [
        "rand_model = RandomForestClassifier(random_state= 42,n_estimators=500,max_depth=5)\n",
        "rand_model.fit(data_prepared_1,y_train)\n",
        "roc_auc_score(y_train, rand_model.predict_proba(data_prepared_1)[:,1])"
      ],
      "metadata": {
        "colab": {
          "base_uri": "https://localhost:8080/"
        },
        "id": "wwKt0BZhnptd",
        "outputId": "00392d6e-b24e-4fea-92a4-1d5fb693ed59"
      },
      "execution_count": null,
      "outputs": [
        {
          "output_type": "execute_result",
          "data": {
            "text/plain": [
              "0.7418895143952855"
            ]
          },
          "metadata": {},
          "execution_count": 345
        }
      ]
    },
    {
      "cell_type": "code",
      "source": [
        "## Validate random_forest model\n",
        "validate(rand_model,data_prepared_1,y_train)"
      ],
      "metadata": {
        "colab": {
          "base_uri": "https://localhost:8080/"
        },
        "id": "0NwSbAwfodGf",
        "outputId": "0801aa27-5b1a-418d-be75-d0aaeebd5a93"
      },
      "execution_count": null,
      "outputs": [
        {
          "output_type": "stream",
          "name": "stdout",
          "text": [
            "The mean score is 0.7064539511305448\n",
            "The std is 0.0\n"
          ]
        }
      ]
    },
    {
      "cell_type": "markdown",
      "source": [
        "#### Build Model with XGBClassifier"
      ],
      "metadata": {
        "id": "nN41f9tIo6jj"
      }
    },
    {
      "cell_type": "code",
      "source": [
        "xgb_model = XGBClassifier(max_depth=3, random_state = 42, n_estimators=100)\n",
        "xgb_model.fit(data_prepared_1,y_train)\n",
        "roc_auc_score(y_train,xgb_model.predict_proba(data_prepared_1)[:,1])"
      ],
      "metadata": {
        "colab": {
          "base_uri": "https://localhost:8080/"
        },
        "id": "W5iQNdA6ohlH",
        "outputId": "38957c50-22c7-4e51-a63e-4e6e456bd32e"
      },
      "execution_count": null,
      "outputs": [
        {
          "output_type": "execute_result",
          "data": {
            "text/plain": [
              "0.758740477307452"
            ]
          },
          "metadata": {},
          "execution_count": 402
        }
      ]
    },
    {
      "cell_type": "code",
      "source": [
        "## Validate XGB model\n",
        "validate(xgb_model,data_prepared_1,y_train)"
      ],
      "metadata": {
        "colab": {
          "base_uri": "https://localhost:8080/"
        },
        "id": "aiZv4sbfpmJj",
        "outputId": "337d1a0c-9c71-4915-ce7c-0c5091b50481"
      },
      "execution_count": null,
      "outputs": [
        {
          "output_type": "stream",
          "name": "stdout",
          "text": [
            "The mean score is 0.7137230548871935\n",
            "The std is 0.0\n"
          ]
        }
      ]
    }
  ]
}